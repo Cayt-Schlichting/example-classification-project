{
 "cells": [
  {
   "cell_type": "code",
   "execution_count": 45,
   "id": "555c7ae9",
   "metadata": {},
   "outputs": [],
   "source": [
    "import numpy as np\n",
    "import pandas as pd\n",
    "import matplotlib.pyplot as plt\n",
    "import seaborn as sns\n",
    "\n",
    "from sklearn.model_selection import train_test_split\n",
    "\n",
    "import wrangle"
   ]
  },
  {
   "cell_type": "markdown",
   "id": "cc0189c4",
   "metadata": {},
   "source": [
    "### Acquire the data"
   ]
  },
  {
   "cell_type": "code",
   "execution_count": 2,
   "id": "6f44c969",
   "metadata": {},
   "outputs": [],
   "source": [
    "df = wrangle.getData('telco')"
   ]
  },
  {
   "cell_type": "markdown",
   "id": "070719c1",
   "metadata": {},
   "source": [
    "Let's look at the data a bit and check for datatypes and nulls"
   ]
  },
  {
   "cell_type": "code",
   "execution_count": 3,
   "id": "31a1e450",
   "metadata": {},
   "outputs": [
    {
     "name": "stdout",
     "output_type": "stream",
     "text": [
      "<class 'pandas.core.frame.DataFrame'>\n",
      "Int64Index: 7043 entries, 0 to 7042\n",
      "Data columns (total 25 columns):\n",
      " #   Column                    Non-Null Count  Dtype  \n",
      "---  ------                    --------------  -----  \n",
      " 0   customer_id               7043 non-null   object \n",
      " 1   payment_type_id           7043 non-null   int64  \n",
      " 2   contract_type_id          7043 non-null   int64  \n",
      " 3   internet_service_type_id  7043 non-null   int64  \n",
      " 4   gender                    7043 non-null   object \n",
      " 5   senior_citizen            7043 non-null   int64  \n",
      " 6   partner                   7043 non-null   object \n",
      " 7   dependents                7043 non-null   object \n",
      " 8   tenure                    7043 non-null   int64  \n",
      " 9   phone_service             7043 non-null   object \n",
      " 10  multiple_lines            7043 non-null   object \n",
      " 11  online_security           7043 non-null   object \n",
      " 12  online_backup             7043 non-null   object \n",
      " 13  device_protection         7043 non-null   object \n",
      " 14  tech_support              7043 non-null   object \n",
      " 15  streaming_tv              7043 non-null   object \n",
      " 16  streaming_movies          7043 non-null   object \n",
      " 17  paperless_billing         7043 non-null   object \n",
      " 18  monthly_charges           7043 non-null   float64\n",
      " 19  total_charges             7043 non-null   object \n",
      " 20  churn                     7043 non-null   object \n",
      " 21  internet_service_type     7043 non-null   object \n",
      " 22  contract_type             7043 non-null   object \n",
      " 23  payment_type              7043 non-null   object \n",
      " 24  signup_date               7043 non-null   object \n",
      "dtypes: float64(1), int64(5), object(19)\n",
      "memory usage: 1.4+ MB\n"
     ]
    }
   ],
   "source": [
    "df.info() #no obvious nulls, odd that total charges is an object"
   ]
  },
  {
   "cell_type": "code",
   "execution_count": 4,
   "id": "b1e090c1",
   "metadata": {},
   "outputs": [
    {
     "data": {
      "text/html": [
       "<div>\n",
       "<style scoped>\n",
       "    .dataframe tbody tr th:only-of-type {\n",
       "        vertical-align: middle;\n",
       "    }\n",
       "\n",
       "    .dataframe tbody tr th {\n",
       "        vertical-align: top;\n",
       "    }\n",
       "\n",
       "    .dataframe thead th {\n",
       "        text-align: right;\n",
       "    }\n",
       "</style>\n",
       "<table border=\"1\" class=\"dataframe\">\n",
       "  <thead>\n",
       "    <tr style=\"text-align: right;\">\n",
       "      <th></th>\n",
       "      <th>payment_type_id</th>\n",
       "      <th>contract_type_id</th>\n",
       "      <th>internet_service_type_id</th>\n",
       "      <th>senior_citizen</th>\n",
       "      <th>tenure</th>\n",
       "      <th>monthly_charges</th>\n",
       "    </tr>\n",
       "  </thead>\n",
       "  <tbody>\n",
       "    <tr>\n",
       "      <th>count</th>\n",
       "      <td>7043.000000</td>\n",
       "      <td>7043.000000</td>\n",
       "      <td>7043.000000</td>\n",
       "      <td>7043.000000</td>\n",
       "      <td>7043.000000</td>\n",
       "      <td>7043.000000</td>\n",
       "    </tr>\n",
       "    <tr>\n",
       "      <th>mean</th>\n",
       "      <td>2.315633</td>\n",
       "      <td>1.690473</td>\n",
       "      <td>1.872923</td>\n",
       "      <td>0.162147</td>\n",
       "      <td>32.371149</td>\n",
       "      <td>64.761692</td>\n",
       "    </tr>\n",
       "    <tr>\n",
       "      <th>std</th>\n",
       "      <td>1.148907</td>\n",
       "      <td>0.833755</td>\n",
       "      <td>0.737796</td>\n",
       "      <td>0.368612</td>\n",
       "      <td>24.559481</td>\n",
       "      <td>30.090047</td>\n",
       "    </tr>\n",
       "    <tr>\n",
       "      <th>min</th>\n",
       "      <td>1.000000</td>\n",
       "      <td>1.000000</td>\n",
       "      <td>1.000000</td>\n",
       "      <td>0.000000</td>\n",
       "      <td>0.000000</td>\n",
       "      <td>18.250000</td>\n",
       "    </tr>\n",
       "    <tr>\n",
       "      <th>25%</th>\n",
       "      <td>1.000000</td>\n",
       "      <td>1.000000</td>\n",
       "      <td>1.000000</td>\n",
       "      <td>0.000000</td>\n",
       "      <td>9.000000</td>\n",
       "      <td>35.500000</td>\n",
       "    </tr>\n",
       "    <tr>\n",
       "      <th>50%</th>\n",
       "      <td>2.000000</td>\n",
       "      <td>1.000000</td>\n",
       "      <td>2.000000</td>\n",
       "      <td>0.000000</td>\n",
       "      <td>29.000000</td>\n",
       "      <td>70.350000</td>\n",
       "    </tr>\n",
       "    <tr>\n",
       "      <th>75%</th>\n",
       "      <td>3.000000</td>\n",
       "      <td>2.000000</td>\n",
       "      <td>2.000000</td>\n",
       "      <td>0.000000</td>\n",
       "      <td>55.000000</td>\n",
       "      <td>89.850000</td>\n",
       "    </tr>\n",
       "    <tr>\n",
       "      <th>max</th>\n",
       "      <td>4.000000</td>\n",
       "      <td>3.000000</td>\n",
       "      <td>3.000000</td>\n",
       "      <td>1.000000</td>\n",
       "      <td>72.000000</td>\n",
       "      <td>118.750000</td>\n",
       "    </tr>\n",
       "  </tbody>\n",
       "</table>\n",
       "</div>"
      ],
      "text/plain": [
       "       payment_type_id  contract_type_id  internet_service_type_id  \\\n",
       "count      7043.000000       7043.000000               7043.000000   \n",
       "mean          2.315633          1.690473                  1.872923   \n",
       "std           1.148907          0.833755                  0.737796   \n",
       "min           1.000000          1.000000                  1.000000   \n",
       "25%           1.000000          1.000000                  1.000000   \n",
       "50%           2.000000          1.000000                  2.000000   \n",
       "75%           3.000000          2.000000                  2.000000   \n",
       "max           4.000000          3.000000                  3.000000   \n",
       "\n",
       "       senior_citizen       tenure  monthly_charges  \n",
       "count     7043.000000  7043.000000      7043.000000  \n",
       "mean         0.162147    32.371149        64.761692  \n",
       "std          0.368612    24.559481        30.090047  \n",
       "min          0.000000     0.000000        18.250000  \n",
       "25%          0.000000     9.000000        35.500000  \n",
       "50%          0.000000    29.000000        70.350000  \n",
       "75%          0.000000    55.000000        89.850000  \n",
       "max          1.000000    72.000000       118.750000  "
      ]
     },
     "execution_count": 4,
     "metadata": {},
     "output_type": "execute_result"
    }
   ],
   "source": [
    "df.describe() "
   ]
  },
  {
   "cell_type": "markdown",
   "id": "52c7cb35",
   "metadata": {},
   "source": [
    "Let's identify what columns are duplicates or have no other values"
   ]
  },
  {
   "cell_type": "code",
   "execution_count": 5,
   "id": "418bee38",
   "metadata": {},
   "outputs": [
    {
     "data": {
      "text/html": [
       "<div>\n",
       "<style scoped>\n",
       "    .dataframe tbody tr th:only-of-type {\n",
       "        vertical-align: middle;\n",
       "    }\n",
       "\n",
       "    .dataframe tbody tr th {\n",
       "        vertical-align: top;\n",
       "    }\n",
       "\n",
       "    .dataframe thead th {\n",
       "        text-align: right;\n",
       "    }\n",
       "</style>\n",
       "<table border=\"1\" class=\"dataframe\">\n",
       "  <thead>\n",
       "    <tr style=\"text-align: right;\">\n",
       "      <th>payment_type</th>\n",
       "      <th>Bank transfer (automatic)</th>\n",
       "      <th>Credit card (automatic)</th>\n",
       "      <th>Electronic check</th>\n",
       "      <th>Mailed check</th>\n",
       "    </tr>\n",
       "    <tr>\n",
       "      <th>payment_type_id</th>\n",
       "      <th></th>\n",
       "      <th></th>\n",
       "      <th></th>\n",
       "      <th></th>\n",
       "    </tr>\n",
       "  </thead>\n",
       "  <tbody>\n",
       "    <tr>\n",
       "      <th>1</th>\n",
       "      <td>0</td>\n",
       "      <td>0</td>\n",
       "      <td>2365</td>\n",
       "      <td>0</td>\n",
       "    </tr>\n",
       "    <tr>\n",
       "      <th>2</th>\n",
       "      <td>0</td>\n",
       "      <td>0</td>\n",
       "      <td>0</td>\n",
       "      <td>1612</td>\n",
       "    </tr>\n",
       "    <tr>\n",
       "      <th>3</th>\n",
       "      <td>1544</td>\n",
       "      <td>0</td>\n",
       "      <td>0</td>\n",
       "      <td>0</td>\n",
       "    </tr>\n",
       "    <tr>\n",
       "      <th>4</th>\n",
       "      <td>0</td>\n",
       "      <td>1522</td>\n",
       "      <td>0</td>\n",
       "      <td>0</td>\n",
       "    </tr>\n",
       "  </tbody>\n",
       "</table>\n",
       "</div>"
      ],
      "text/plain": [
       "payment_type     Bank transfer (automatic)  Credit card (automatic)  \\\n",
       "payment_type_id                                                       \n",
       "1                                        0                        0   \n",
       "2                                        0                        0   \n",
       "3                                     1544                        0   \n",
       "4                                        0                     1522   \n",
       "\n",
       "payment_type     Electronic check  Mailed check  \n",
       "payment_type_id                                  \n",
       "1                            2365             0  \n",
       "2                               0          1612  \n",
       "3                               0             0  \n",
       "4                               0             0  "
      ]
     },
     "execution_count": 5,
     "metadata": {},
     "output_type": "execute_result"
    }
   ],
   "source": [
    "pd.crosstab(df.payment_type_id,df.payment_type) #can drop type ID"
   ]
  },
  {
   "cell_type": "code",
   "execution_count": 6,
   "id": "af9cf7e6",
   "metadata": {},
   "outputs": [
    {
     "data": {
      "text/html": [
       "<div>\n",
       "<style scoped>\n",
       "    .dataframe tbody tr th:only-of-type {\n",
       "        vertical-align: middle;\n",
       "    }\n",
       "\n",
       "    .dataframe tbody tr th {\n",
       "        vertical-align: top;\n",
       "    }\n",
       "\n",
       "    .dataframe thead th {\n",
       "        text-align: right;\n",
       "    }\n",
       "</style>\n",
       "<table border=\"1\" class=\"dataframe\">\n",
       "  <thead>\n",
       "    <tr style=\"text-align: right;\">\n",
       "      <th>internet_service_type</th>\n",
       "      <th>DSL</th>\n",
       "      <th>Fiber optic</th>\n",
       "      <th>None</th>\n",
       "    </tr>\n",
       "    <tr>\n",
       "      <th>internet_service_type_id</th>\n",
       "      <th></th>\n",
       "      <th></th>\n",
       "      <th></th>\n",
       "    </tr>\n",
       "  </thead>\n",
       "  <tbody>\n",
       "    <tr>\n",
       "      <th>1</th>\n",
       "      <td>2421</td>\n",
       "      <td>0</td>\n",
       "      <td>0</td>\n",
       "    </tr>\n",
       "    <tr>\n",
       "      <th>2</th>\n",
       "      <td>0</td>\n",
       "      <td>3096</td>\n",
       "      <td>0</td>\n",
       "    </tr>\n",
       "    <tr>\n",
       "      <th>3</th>\n",
       "      <td>0</td>\n",
       "      <td>0</td>\n",
       "      <td>1526</td>\n",
       "    </tr>\n",
       "  </tbody>\n",
       "</table>\n",
       "</div>"
      ],
      "text/plain": [
       "internet_service_type      DSL  Fiber optic  None\n",
       "internet_service_type_id                         \n",
       "1                         2421            0     0\n",
       "2                            0         3096     0\n",
       "3                            0            0  1526"
      ]
     },
     "execution_count": 6,
     "metadata": {},
     "output_type": "execute_result"
    }
   ],
   "source": [
    "pd.crosstab(df.internet_service_type_id,df.internet_service_type) #can drop int ser type id"
   ]
  },
  {
   "cell_type": "code",
   "execution_count": 7,
   "id": "a17429d9",
   "metadata": {},
   "outputs": [
    {
     "data": {
      "text/html": [
       "<div>\n",
       "<style scoped>\n",
       "    .dataframe tbody tr th:only-of-type {\n",
       "        vertical-align: middle;\n",
       "    }\n",
       "\n",
       "    .dataframe tbody tr th {\n",
       "        vertical-align: top;\n",
       "    }\n",
       "\n",
       "    .dataframe thead th {\n",
       "        text-align: right;\n",
       "    }\n",
       "</style>\n",
       "<table border=\"1\" class=\"dataframe\">\n",
       "  <thead>\n",
       "    <tr style=\"text-align: right;\">\n",
       "      <th>contract_type</th>\n",
       "      <th>Month-to-month</th>\n",
       "      <th>One year</th>\n",
       "      <th>Two year</th>\n",
       "    </tr>\n",
       "    <tr>\n",
       "      <th>contract_type_id</th>\n",
       "      <th></th>\n",
       "      <th></th>\n",
       "      <th></th>\n",
       "    </tr>\n",
       "  </thead>\n",
       "  <tbody>\n",
       "    <tr>\n",
       "      <th>1</th>\n",
       "      <td>3875</td>\n",
       "      <td>0</td>\n",
       "      <td>0</td>\n",
       "    </tr>\n",
       "    <tr>\n",
       "      <th>2</th>\n",
       "      <td>0</td>\n",
       "      <td>1473</td>\n",
       "      <td>0</td>\n",
       "    </tr>\n",
       "    <tr>\n",
       "      <th>3</th>\n",
       "      <td>0</td>\n",
       "      <td>0</td>\n",
       "      <td>1695</td>\n",
       "    </tr>\n",
       "  </tbody>\n",
       "</table>\n",
       "</div>"
      ],
      "text/plain": [
       "contract_type     Month-to-month  One year  Two year\n",
       "contract_type_id                                    \n",
       "1                           3875         0         0\n",
       "2                              0      1473         0\n",
       "3                              0         0      1695"
      ]
     },
     "execution_count": 7,
     "metadata": {},
     "output_type": "execute_result"
    }
   ],
   "source": [
    "pd.crosstab(df.contract_type_id, df.contract_type) #drop contract type id"
   ]
  },
  {
   "cell_type": "code",
   "execution_count": 8,
   "id": "30bada79",
   "metadata": {},
   "outputs": [
    {
     "data": {
      "text/plain": [
       "7043"
      ]
     },
     "execution_count": 8,
     "metadata": {},
     "output_type": "execute_result"
    }
   ],
   "source": [
    "df.customer_id.nunique() #primary key, can drop.  Also means no duplicates"
   ]
  },
  {
   "cell_type": "markdown",
   "id": "4287944d",
   "metadata": {},
   "source": [
    "### Notes on what I can drop so far:\n",
    "- Payment type id, duplicate of payment type\n",
    "- Internet service type id, duplicate of internet service type\n",
    "- contract type id, duplicate of contract type\n",
    "- Customer id, is a primery key, can drop"
   ]
  },
  {
   "cell_type": "markdown",
   "id": "8dfd3dcf",
   "metadata": {},
   "source": [
    "Looking at the next check of object columns"
   ]
  },
  {
   "cell_type": "code",
   "execution_count": 9,
   "id": "5f93ca9d",
   "metadata": {},
   "outputs": [
    {
     "data": {
      "text/html": [
       "<div>\n",
       "<style scoped>\n",
       "    .dataframe tbody tr th:only-of-type {\n",
       "        vertical-align: middle;\n",
       "    }\n",
       "\n",
       "    .dataframe tbody tr th {\n",
       "        vertical-align: top;\n",
       "    }\n",
       "\n",
       "    .dataframe thead th {\n",
       "        text-align: right;\n",
       "    }\n",
       "</style>\n",
       "<table border=\"1\" class=\"dataframe\">\n",
       "  <thead>\n",
       "    <tr style=\"text-align: right;\">\n",
       "      <th></th>\n",
       "      <th>gender</th>\n",
       "      <th>senior_citizen</th>\n",
       "      <th>partner</th>\n",
       "      <th>dependents</th>\n",
       "      <th>tenure</th>\n",
       "      <th>phone_service</th>\n",
       "      <th>multiple_lines</th>\n",
       "      <th>online_security</th>\n",
       "      <th>online_backup</th>\n",
       "      <th>device_protection</th>\n",
       "      <th>tech_support</th>\n",
       "      <th>streaming_tv</th>\n",
       "      <th>streaming_movies</th>\n",
       "      <th>paperless_billing</th>\n",
       "    </tr>\n",
       "  </thead>\n",
       "  <tbody>\n",
       "    <tr>\n",
       "      <th>0</th>\n",
       "      <td>Female</td>\n",
       "      <td>0</td>\n",
       "      <td>Yes</td>\n",
       "      <td>Yes</td>\n",
       "      <td>9</td>\n",
       "      <td>Yes</td>\n",
       "      <td>No</td>\n",
       "      <td>No</td>\n",
       "      <td>Yes</td>\n",
       "      <td>No</td>\n",
       "      <td>Yes</td>\n",
       "      <td>Yes</td>\n",
       "      <td>No</td>\n",
       "      <td>Yes</td>\n",
       "    </tr>\n",
       "    <tr>\n",
       "      <th>1</th>\n",
       "      <td>Male</td>\n",
       "      <td>0</td>\n",
       "      <td>No</td>\n",
       "      <td>No</td>\n",
       "      <td>9</td>\n",
       "      <td>Yes</td>\n",
       "      <td>Yes</td>\n",
       "      <td>No</td>\n",
       "      <td>No</td>\n",
       "      <td>No</td>\n",
       "      <td>No</td>\n",
       "      <td>No</td>\n",
       "      <td>Yes</td>\n",
       "      <td>No</td>\n",
       "    </tr>\n",
       "    <tr>\n",
       "      <th>2</th>\n",
       "      <td>Male</td>\n",
       "      <td>0</td>\n",
       "      <td>No</td>\n",
       "      <td>No</td>\n",
       "      <td>4</td>\n",
       "      <td>Yes</td>\n",
       "      <td>No</td>\n",
       "      <td>No</td>\n",
       "      <td>No</td>\n",
       "      <td>Yes</td>\n",
       "      <td>No</td>\n",
       "      <td>No</td>\n",
       "      <td>No</td>\n",
       "      <td>Yes</td>\n",
       "    </tr>\n",
       "    <tr>\n",
       "      <th>3</th>\n",
       "      <td>Male</td>\n",
       "      <td>1</td>\n",
       "      <td>Yes</td>\n",
       "      <td>No</td>\n",
       "      <td>13</td>\n",
       "      <td>Yes</td>\n",
       "      <td>No</td>\n",
       "      <td>No</td>\n",
       "      <td>Yes</td>\n",
       "      <td>Yes</td>\n",
       "      <td>No</td>\n",
       "      <td>Yes</td>\n",
       "      <td>Yes</td>\n",
       "      <td>Yes</td>\n",
       "    </tr>\n",
       "    <tr>\n",
       "      <th>4</th>\n",
       "      <td>Female</td>\n",
       "      <td>1</td>\n",
       "      <td>Yes</td>\n",
       "      <td>No</td>\n",
       "      <td>3</td>\n",
       "      <td>Yes</td>\n",
       "      <td>No</td>\n",
       "      <td>No</td>\n",
       "      <td>No</td>\n",
       "      <td>No</td>\n",
       "      <td>Yes</td>\n",
       "      <td>Yes</td>\n",
       "      <td>No</td>\n",
       "      <td>Yes</td>\n",
       "    </tr>\n",
       "    <tr>\n",
       "      <th>...</th>\n",
       "      <td>...</td>\n",
       "      <td>...</td>\n",
       "      <td>...</td>\n",
       "      <td>...</td>\n",
       "      <td>...</td>\n",
       "      <td>...</td>\n",
       "      <td>...</td>\n",
       "      <td>...</td>\n",
       "      <td>...</td>\n",
       "      <td>...</td>\n",
       "      <td>...</td>\n",
       "      <td>...</td>\n",
       "      <td>...</td>\n",
       "      <td>...</td>\n",
       "    </tr>\n",
       "    <tr>\n",
       "      <th>7038</th>\n",
       "      <td>Female</td>\n",
       "      <td>0</td>\n",
       "      <td>No</td>\n",
       "      <td>No</td>\n",
       "      <td>13</td>\n",
       "      <td>Yes</td>\n",
       "      <td>No</td>\n",
       "      <td>Yes</td>\n",
       "      <td>No</td>\n",
       "      <td>No</td>\n",
       "      <td>Yes</td>\n",
       "      <td>No</td>\n",
       "      <td>No</td>\n",
       "      <td>No</td>\n",
       "    </tr>\n",
       "    <tr>\n",
       "      <th>7039</th>\n",
       "      <td>Male</td>\n",
       "      <td>0</td>\n",
       "      <td>Yes</td>\n",
       "      <td>No</td>\n",
       "      <td>22</td>\n",
       "      <td>Yes</td>\n",
       "      <td>Yes</td>\n",
       "      <td>No</td>\n",
       "      <td>No</td>\n",
       "      <td>No</td>\n",
       "      <td>No</td>\n",
       "      <td>No</td>\n",
       "      <td>Yes</td>\n",
       "      <td>Yes</td>\n",
       "    </tr>\n",
       "    <tr>\n",
       "      <th>7040</th>\n",
       "      <td>Male</td>\n",
       "      <td>0</td>\n",
       "      <td>No</td>\n",
       "      <td>No</td>\n",
       "      <td>2</td>\n",
       "      <td>Yes</td>\n",
       "      <td>No</td>\n",
       "      <td>No</td>\n",
       "      <td>Yes</td>\n",
       "      <td>No</td>\n",
       "      <td>No</td>\n",
       "      <td>No</td>\n",
       "      <td>No</td>\n",
       "      <td>Yes</td>\n",
       "    </tr>\n",
       "    <tr>\n",
       "      <th>7041</th>\n",
       "      <td>Male</td>\n",
       "      <td>0</td>\n",
       "      <td>Yes</td>\n",
       "      <td>Yes</td>\n",
       "      <td>67</td>\n",
       "      <td>Yes</td>\n",
       "      <td>No</td>\n",
       "      <td>Yes</td>\n",
       "      <td>No</td>\n",
       "      <td>Yes</td>\n",
       "      <td>Yes</td>\n",
       "      <td>No</td>\n",
       "      <td>Yes</td>\n",
       "      <td>No</td>\n",
       "    </tr>\n",
       "    <tr>\n",
       "      <th>7042</th>\n",
       "      <td>Male</td>\n",
       "      <td>0</td>\n",
       "      <td>Yes</td>\n",
       "      <td>Yes</td>\n",
       "      <td>63</td>\n",
       "      <td>No</td>\n",
       "      <td>No phone service</td>\n",
       "      <td>Yes</td>\n",
       "      <td>Yes</td>\n",
       "      <td>Yes</td>\n",
       "      <td>No</td>\n",
       "      <td>Yes</td>\n",
       "      <td>Yes</td>\n",
       "      <td>No</td>\n",
       "    </tr>\n",
       "  </tbody>\n",
       "</table>\n",
       "<p>7043 rows × 14 columns</p>\n",
       "</div>"
      ],
      "text/plain": [
       "      gender  senior_citizen partner dependents  tenure phone_service  \\\n",
       "0     Female               0     Yes        Yes       9           Yes   \n",
       "1       Male               0      No         No       9           Yes   \n",
       "2       Male               0      No         No       4           Yes   \n",
       "3       Male               1     Yes         No      13           Yes   \n",
       "4     Female               1     Yes         No       3           Yes   \n",
       "...      ...             ...     ...        ...     ...           ...   \n",
       "7038  Female               0      No         No      13           Yes   \n",
       "7039    Male               0     Yes         No      22           Yes   \n",
       "7040    Male               0      No         No       2           Yes   \n",
       "7041    Male               0     Yes        Yes      67           Yes   \n",
       "7042    Male               0     Yes        Yes      63            No   \n",
       "\n",
       "        multiple_lines online_security online_backup device_protection  \\\n",
       "0                   No              No           Yes                No   \n",
       "1                  Yes              No            No                No   \n",
       "2                   No              No            No               Yes   \n",
       "3                   No              No           Yes               Yes   \n",
       "4                   No              No            No                No   \n",
       "...                ...             ...           ...               ...   \n",
       "7038                No             Yes            No                No   \n",
       "7039               Yes              No            No                No   \n",
       "7040                No              No           Yes                No   \n",
       "7041                No             Yes            No               Yes   \n",
       "7042  No phone service             Yes           Yes               Yes   \n",
       "\n",
       "     tech_support streaming_tv streaming_movies paperless_billing  \n",
       "0             Yes          Yes               No               Yes  \n",
       "1              No           No              Yes                No  \n",
       "2              No           No               No               Yes  \n",
       "3              No          Yes              Yes               Yes  \n",
       "4             Yes          Yes               No               Yes  \n",
       "...           ...          ...              ...               ...  \n",
       "7038          Yes           No               No                No  \n",
       "7039           No           No              Yes               Yes  \n",
       "7040           No           No               No               Yes  \n",
       "7041          Yes           No              Yes                No  \n",
       "7042           No          Yes              Yes                No  \n",
       "\n",
       "[7043 rows x 14 columns]"
      ]
     },
     "execution_count": 9,
     "metadata": {},
     "output_type": "execute_result"
    }
   ],
   "source": [
    "df.iloc[:,4:18] #need to encode these, but also check for list of values"
   ]
  },
  {
   "cell_type": "code",
   "execution_count": 10,
   "id": "799c5b86",
   "metadata": {},
   "outputs": [
    {
     "name": "stdout",
     "output_type": "stream",
     "text": [
      "['Female' 'Male']\n",
      "[0 1]\n",
      "['Yes' 'No']\n",
      "['Yes' 'No']\n",
      "[ 9  4 13  3 71 63  7 65 54 72  5 56 34  1 45 50 23 55 26 69 37 49 66 67\n",
      " 20 43 59 12 27  2 25 29 14 35 64 39 40 11  6 30 70 57 58 16 32 33 10 21\n",
      " 61 15 44 22 24 19 47 62 46 52  8 60 48 28 41 53 68 31 36 17 18 51 38 42\n",
      "  0]\n",
      "['Yes' 'No']\n",
      "['No' 'Yes' 'No phone service']\n",
      "['No' 'Yes' 'No internet service']\n",
      "['Yes' 'No' 'No internet service']\n",
      "['No' 'Yes' 'No internet service']\n",
      "['Yes' 'No' 'No internet service']\n",
      "['Yes' 'No' 'No internet service']\n",
      "['No' 'Yes' 'No internet service']\n",
      "['Yes' 'No']\n"
     ]
    }
   ],
   "source": [
    "for i in df.columns[4:18]:\n",
    "    print(df[i].unique())\n",
    "#no vs no * service is important, as it is saying the column doesn't apply.  \n",
    "#MAP: partner, dependents, phone service and paperless billing, encode the rest (except senior and tenure)"
   ]
  },
  {
   "cell_type": "markdown",
   "id": "709ae181",
   "metadata": {},
   "source": [
    "Now check out that total charges column"
   ]
  },
  {
   "cell_type": "code",
   "execution_count": 11,
   "id": "da350da5",
   "metadata": {},
   "outputs": [
    {
     "data": {
      "text/plain": [
       "str"
      ]
     },
     "execution_count": 11,
     "metadata": {},
     "output_type": "execute_result"
    }
   ],
   "source": [
    "type(df.total_charges[0]) #need to convert total charges to float"
   ]
  },
  {
   "cell_type": "code",
   "execution_count": 12,
   "id": "bfb29327",
   "metadata": {},
   "outputs": [
    {
     "data": {
      "text/plain": [
       "2855          \n",
       "3118          \n",
       "3052          \n",
       "5433          \n",
       "1731          \n",
       "         ...  \n",
       "5868    997.75\n",
       "4298     998.1\n",
       "4173    999.45\n",
       "3162     999.8\n",
       "6421     999.9\n",
       "Name: total_charges, Length: 7043, dtype: object"
      ]
     },
     "execution_count": 12,
     "metadata": {},
     "output_type": "execute_result"
    }
   ],
   "source": [
    "df.total_charges.sort_values() #Looks like there are some nulls"
   ]
  },
  {
   "cell_type": "code",
   "execution_count": 13,
   "id": "e5164564",
   "metadata": {},
   "outputs": [
    {
     "data": {
      "text/plain": [
       "2855           \n",
       "3118           \n",
       "3052           \n",
       "5433           \n",
       "1731           \n",
       "4054           \n",
       "2176           \n",
       "2250           \n",
       "945            \n",
       "1906           \n",
       "2025           \n",
       "4386      100.2\n",
       "2222     100.25\n",
       "1771     100.35\n",
       "5542      100.4\n",
       "5126      100.8\n",
       "3315      100.9\n",
       "5762     1001.2\n",
       "4983     1001.5\n",
       "4764    1003.05\n",
       "Name: total_charges, dtype: object"
      ]
     },
     "execution_count": 13,
     "metadata": {},
     "output_type": "execute_result"
    }
   ],
   "source": [
    "df.total_charges.sort_values().head(20) #about 10-15"
   ]
  },
  {
   "cell_type": "code",
   "execution_count": 14,
   "id": "46f2035f",
   "metadata": {},
   "outputs": [
    {
     "data": {
      "text/plain": [
       "945     \n",
       "1731    \n",
       "1906    \n",
       "2025    \n",
       "2176    \n",
       "2250    \n",
       "2855    \n",
       "3052    \n",
       "3118    \n",
       "4054    \n",
       "5433    \n",
       "Name: total_charges, dtype: object"
      ]
     },
     "execution_count": 14,
     "metadata": {},
     "output_type": "execute_result"
    }
   ],
   "source": [
    "#They aren't null so they may have spaces, stripping\n",
    "df2 = df.total_charges.str.strip()\n",
    "df2[df2==''] #there's our null(ish) subset!"
   ]
  },
  {
   "cell_type": "code",
   "execution_count": 15,
   "id": "4249df05",
   "metadata": {},
   "outputs": [
    {
     "data": {
      "text/plain": [
       "Int64Index([945, 1731, 1906, 2025, 2176, 2250, 2855, 3052, 3118, 4054, 5433], dtype='int64')"
      ]
     },
     "execution_count": 15,
     "metadata": {},
     "output_type": "execute_result"
    }
   ],
   "source": [
    "df2[df2 == ''].index #how to grab index values for dropping"
   ]
  },
  {
   "cell_type": "markdown",
   "id": "2b6fd6b0",
   "metadata": {},
   "source": [
    "continuing through the columns"
   ]
  },
  {
   "cell_type": "code",
   "execution_count": 16,
   "id": "ce7d9b2c",
   "metadata": {},
   "outputs": [
    {
     "data": {
      "text/plain": [
       "array(['No', 'Yes'], dtype=object)"
      ]
     },
     "execution_count": 16,
     "metadata": {},
     "output_type": "execute_result"
    }
   ],
   "source": [
    "df.churn.unique() #encode"
   ]
  },
  {
   "cell_type": "code",
   "execution_count": 17,
   "id": "11874798",
   "metadata": {},
   "outputs": [
    {
     "data": {
      "text/plain": [
       "0       2021-04-21 18:07:34\n",
       "1       2021-04-21 18:07:34\n",
       "2       2021-09-21 18:07:34\n",
       "3       2020-12-21 18:07:34\n",
       "4       2021-10-21 18:07:34\n",
       "               ...         \n",
       "7038    2020-12-21 18:07:34\n",
       "7039    2020-03-21 18:07:34\n",
       "7040    2021-11-21 18:07:34\n",
       "7041    2016-06-21 18:07:34\n",
       "7042    2016-10-21 18:07:34\n",
       "Name: signup_date, Length: 7043, dtype: object"
      ]
     },
     "execution_count": 17,
     "metadata": {},
     "output_type": "execute_result"
    }
   ],
   "source": [
    "df.signup_date"
   ]
  },
  {
   "cell_type": "code",
   "execution_count": 18,
   "id": "a81e162a",
   "metadata": {},
   "outputs": [
    {
     "data": {
      "text/plain": [
       "0        9\n",
       "1        9\n",
       "2        4\n",
       "3       13\n",
       "4        3\n",
       "        ..\n",
       "7038    13\n",
       "7039    22\n",
       "7040     2\n",
       "7041    67\n",
       "7042    63\n",
       "Name: tenure, Length: 7043, dtype: int64"
      ]
     },
     "execution_count": 18,
     "metadata": {},
     "output_type": "execute_result"
    }
   ],
   "source": [
    "df.tenure #Keep this as opposed to signup_date"
   ]
  },
  {
   "cell_type": "code",
   "execution_count": 19,
   "id": "9606e7ba",
   "metadata": {},
   "outputs": [
    {
     "name": "stdout",
     "output_type": "stream",
     "text": [
      "<class 'pandas.core.frame.DataFrame'>\n",
      "Int64Index: 7043 entries, 0 to 7042\n",
      "Data columns (total 25 columns):\n",
      " #   Column                    Non-Null Count  Dtype  \n",
      "---  ------                    --------------  -----  \n",
      " 0   customer_id               7043 non-null   object \n",
      " 1   payment_type_id           7043 non-null   int64  \n",
      " 2   contract_type_id          7043 non-null   int64  \n",
      " 3   internet_service_type_id  7043 non-null   int64  \n",
      " 4   gender                    7043 non-null   object \n",
      " 5   senior_citizen            7043 non-null   int64  \n",
      " 6   partner                   7043 non-null   object \n",
      " 7   dependents                7043 non-null   object \n",
      " 8   tenure                    7043 non-null   int64  \n",
      " 9   phone_service             7043 non-null   object \n",
      " 10  multiple_lines            7043 non-null   object \n",
      " 11  online_security           7043 non-null   object \n",
      " 12  online_backup             7043 non-null   object \n",
      " 13  device_protection         7043 non-null   object \n",
      " 14  tech_support              7043 non-null   object \n",
      " 15  streaming_tv              7043 non-null   object \n",
      " 16  streaming_movies          7043 non-null   object \n",
      " 17  paperless_billing         7043 non-null   object \n",
      " 18  monthly_charges           7043 non-null   float64\n",
      " 19  total_charges             7043 non-null   object \n",
      " 20  churn                     7043 non-null   object \n",
      " 21  internet_service_type     7043 non-null   object \n",
      " 22  contract_type             7043 non-null   object \n",
      " 23  payment_type              7043 non-null   object \n",
      " 24  signup_date               7043 non-null   object \n",
      "dtypes: float64(1), int64(5), object(19)\n",
      "memory usage: 1.6+ MB\n"
     ]
    }
   ],
   "source": [
    "df.info()"
   ]
  },
  {
   "cell_type": "code",
   "execution_count": 20,
   "id": "96b001d0",
   "metadata": {},
   "outputs": [
    {
     "name": "stdout",
     "output_type": "stream",
     "text": [
      "['DSL' 'Fiber optic' 'None']\n",
      "['One year' 'Month-to-month' 'Two year']\n",
      "['Mailed check' 'Electronic check' 'Credit card (automatic)'\n",
      " 'Bank transfer (automatic)']\n"
     ]
    }
   ],
   "source": [
    "for i in df.columns[21:24]:\n",
    "    print(df[i].unique())\n",
    "#encode these"
   ]
  },
  {
   "cell_type": "markdown",
   "id": "0d9852fe",
   "metadata": {},
   "source": [
    "### Summary of cleaning to do:\n",
    "- Total_Charges:\n",
    "  - Drop rows w/ nulls in total_charges (strip, check for '', grab index)\n",
    "  - Convert to float\n",
    "- To Drop:\n",
    "  - Payment type id, duplicate of payment type\n",
    "  - Internet service type id, duplicate of internet service type\n",
    "  - contract type id, duplicate of contract type\n",
    "  - Customer id, is a primery key, can drop\n",
    "  - signup_date, tenure is sufficient\n",
    "- To Encode/Map:\n",
    "  - Map yes/no:\n",
    "      - partner, dependents, phone_service, paperless_billing,  churn, \n",
    "  - Encode:\n",
    "    - 'gender', 'multiple_lines', 'online_security', 'online_backup', 'device_protection', 'tech_support', 'streaming_tv', 'streaming_movies','internet_service_type','contract_type','payment_type'\n",
    "  "
   ]
  },
  {
   "cell_type": "markdown",
   "id": "2e2132c1",
   "metadata": {},
   "source": [
    "#### Start cleaning"
   ]
  },
  {
   "cell_type": "code",
   "execution_count": 21,
   "id": "fc41ebf6",
   "metadata": {},
   "outputs": [],
   "source": [
    "#strip total charges, check for empty cells, and store the indexes\n",
    "drp_ind = df[df.total_charges.str.strip() == ''].index"
   ]
  },
  {
   "cell_type": "code",
   "execution_count": 22,
   "id": "1dd412b2",
   "metadata": {},
   "outputs": [
    {
     "data": {
      "text/plain": [
       "(7043, 25)"
      ]
     },
     "execution_count": 22,
     "metadata": {},
     "output_type": "execute_result"
    }
   ],
   "source": [
    "df.shape"
   ]
  },
  {
   "cell_type": "code",
   "execution_count": 23,
   "id": "f432a895",
   "metadata": {},
   "outputs": [],
   "source": [
    "#drop those rows\n",
    "df.drop(index=drp_ind,inplace=True)"
   ]
  },
  {
   "cell_type": "code",
   "execution_count": 24,
   "id": "dcfe5472",
   "metadata": {},
   "outputs": [
    {
     "data": {
      "text/plain": [
       "(7032, 25)"
      ]
     },
     "execution_count": 24,
     "metadata": {},
     "output_type": "execute_result"
    }
   ],
   "source": [
    "df.shape #looks like the 10-15 I expected"
   ]
  },
  {
   "cell_type": "code",
   "execution_count": 25,
   "id": "c4034ae2",
   "metadata": {},
   "outputs": [
    {
     "data": {
      "text/plain": [
       "4386     100.2\n",
       "2222    100.25\n",
       "1771    100.35\n",
       "5542     100.4\n",
       "5126     100.8\n",
       "         ...  \n",
       "5868    997.75\n",
       "4298     998.1\n",
       "4173    999.45\n",
       "3162     999.8\n",
       "6421     999.9\n",
       "Name: total_charges, Length: 7032, dtype: object"
      ]
     },
     "execution_count": 25,
     "metadata": {},
     "output_type": "execute_result"
    }
   ],
   "source": [
    "df.total_charges.sort_values() #awesome, don't see those nulls"
   ]
  },
  {
   "cell_type": "code",
   "execution_count": 26,
   "id": "168c9abd",
   "metadata": {},
   "outputs": [],
   "source": [
    "#convert\n",
    "df.total_charges = df.total_charges.astype(float)"
   ]
  },
  {
   "cell_type": "code",
   "execution_count": 27,
   "id": "920ae403",
   "metadata": {},
   "outputs": [
    {
     "data": {
      "text/plain": [
       "dtype('float64')"
      ]
     },
     "execution_count": 27,
     "metadata": {},
     "output_type": "execute_result"
    }
   ],
   "source": [
    "df.total_charges.dtype #Total charges is ready!"
   ]
  },
  {
   "cell_type": "code",
   "execution_count": 28,
   "id": "0ffea247",
   "metadata": {},
   "outputs": [],
   "source": [
    "#now drop unnecessary columns\n",
    "#columns to drop\n",
    "drp_col = ['payment_type_id','internet_service_type_id','contract_type_id','customer_id','signup_date']"
   ]
  },
  {
   "cell_type": "code",
   "execution_count": 29,
   "id": "a4fd77e1",
   "metadata": {},
   "outputs": [],
   "source": [
    "df.drop(columns = drp_col,inplace=True)"
   ]
  },
  {
   "cell_type": "code",
   "execution_count": 30,
   "id": "effda2e0",
   "metadata": {},
   "outputs": [
    {
     "data": {
      "text/plain": [
       "(7032, 20)"
      ]
     },
     "execution_count": 30,
     "metadata": {},
     "output_type": "execute_result"
    }
   ],
   "source": [
    "df.shape #5 less columns"
   ]
  },
  {
   "cell_type": "code",
   "execution_count": 31,
   "id": "fbf21efa",
   "metadata": {},
   "outputs": [],
   "source": [
    "#map subset of variables that are yes/no\n",
    "#phone_service, paperless_billing, partner, dependents, churn\n",
    "df['has_phone'] = df.phone_service.map({'Yes': 1, 'No': 0})\n",
    "df['is_paperless'] = df.paperless_billing.map({'Yes': 1, 'No': 0})\n",
    "df['has_dependents'] = df.partner.map({'Yes': 1, 'No': 0})\n",
    "df['has_partner'] = df.dependents.map({'Yes': 1, 'No': 0})\n",
    "df['has_churned'] = df.churn.map({'Yes': 1, 'No': 0})"
   ]
  },
  {
   "cell_type": "code",
   "execution_count": 32,
   "id": "a39ea86b",
   "metadata": {},
   "outputs": [
    {
     "data": {
      "text/plain": [
       "Index(['gender', 'senior_citizen', 'partner', 'dependents', 'tenure',\n",
       "       'phone_service', 'multiple_lines', 'online_security', 'online_backup',\n",
       "       'device_protection', 'tech_support', 'streaming_tv', 'streaming_movies',\n",
       "       'paperless_billing', 'monthly_charges', 'total_charges', 'churn',\n",
       "       'internet_service_type', 'contract_type', 'payment_type', 'has_phone',\n",
       "       'is_paperless', 'has_dependents', 'has_partner', 'has_churned'],\n",
       "      dtype='object')"
      ]
     },
     "execution_count": 32,
     "metadata": {},
     "output_type": "execute_result"
    }
   ],
   "source": [
    "df.columns"
   ]
  },
  {
   "cell_type": "code",
   "execution_count": 33,
   "id": "466e89d3",
   "metadata": {},
   "outputs": [],
   "source": [
    "#encode the other categories\n",
    "#identify columns\n",
    "enc_col = ['gender', 'multiple_lines', 'online_security', 'online_backup', 'device_protection', 'tech_support', 'streaming_tv', 'streaming_movies','payment_type','contract_type','internet_service_type']"
   ]
  },
  {
   "cell_type": "code",
   "execution_count": 34,
   "id": "0ec961aa",
   "metadata": {},
   "outputs": [],
   "source": [
    "#create encoded columns\n",
    "d_df = pd.get_dummies(df[enc_col],drop_first=True)"
   ]
  },
  {
   "cell_type": "code",
   "execution_count": 35,
   "id": "dae17d08",
   "metadata": {},
   "outputs": [],
   "source": [
    "#concat to the rest of the df\n",
    "df = pd.concat([df,d_df],axis=1)"
   ]
  },
  {
   "cell_type": "code",
   "execution_count": 36,
   "id": "fb0b23db",
   "metadata": {},
   "outputs": [
    {
     "data": {
      "text/plain": [
       "(7032, 47)"
      ]
     },
     "execution_count": 36,
     "metadata": {},
     "output_type": "execute_result"
    }
   ],
   "source": [
    "df.shape #lots of columns"
   ]
  },
  {
   "cell_type": "code",
   "execution_count": 37,
   "id": "1feef8b9",
   "metadata": {},
   "outputs": [
    {
     "data": {
      "text/plain": [
       "Index(['gender', 'senior_citizen', 'partner', 'dependents', 'tenure',\n",
       "       'phone_service', 'multiple_lines', 'online_security', 'online_backup',\n",
       "       'device_protection', 'tech_support', 'streaming_tv', 'streaming_movies',\n",
       "       'paperless_billing', 'monthly_charges', 'total_charges', 'churn',\n",
       "       'internet_service_type', 'contract_type', 'payment_type', 'has_phone',\n",
       "       'is_paperless', 'has_dependents', 'has_partner', 'has_churned',\n",
       "       'gender_Male', 'multiple_lines_No phone service', 'multiple_lines_Yes',\n",
       "       'online_security_No internet service', 'online_security_Yes',\n",
       "       'online_backup_No internet service', 'online_backup_Yes',\n",
       "       'device_protection_No internet service', 'device_protection_Yes',\n",
       "       'tech_support_No internet service', 'tech_support_Yes',\n",
       "       'streaming_tv_No internet service', 'streaming_tv_Yes',\n",
       "       'streaming_movies_No internet service', 'streaming_movies_Yes',\n",
       "       'payment_type_Credit card (automatic)', 'payment_type_Electronic check',\n",
       "       'payment_type_Mailed check', 'contract_type_One year',\n",
       "       'contract_type_Two year', 'internet_service_type_Fiber optic',\n",
       "       'internet_service_type_None'],\n",
       "      dtype='object')"
      ]
     },
     "execution_count": 37,
     "metadata": {},
     "output_type": "execute_result"
    }
   ],
   "source": [
    "df.columns"
   ]
  },
  {
   "cell_type": "markdown",
   "id": "70908073",
   "metadata": {},
   "source": [
    "##### Dropped into a function and testing"
   ]
  },
  {
   "cell_type": "code",
   "execution_count": 41,
   "id": "f6491560",
   "metadata": {},
   "outputs": [],
   "source": [
    "#### TELCO PREP ####\n",
    "def prep_telco(df,**kwargs):\n",
    "  #HANDLE total_charge row: \n",
    "  #grab the indices with null values\n",
    "  drp_ind = df[df.total_charges.str.strip() == ''].index\n",
    "  #drop those indices\n",
    "  df.drop(index=drp_ind,inplace=True)\n",
    "  #Convert the column to float\n",
    "  df.total_charges = df.total_charges.astype(float)\n",
    "\n",
    "  #DROP unnecessary columns\n",
    "  drp_col = ['payment_type_id','internet_service_type_id','contract_type_id','customer_id','signup_date']\n",
    "  df.drop(columns = drp_col,inplace=True)\n",
    "  #MAP subset of variables that are yes/no\n",
    "  #phone_service, paperless_billing, partner, dependents, churn\n",
    "  df['has_phone'] = df.phone_service.map({'Yes': 1, 'No': 0})\n",
    "  df['is_paperless'] = df.paperless_billing.map({'Yes': 1, 'No': 0})\n",
    "  df['has_dependents'] = df.partner.map({'Yes': 1, 'No': 0})\n",
    "  df['has_partner'] = df.dependents.map({'Yes': 1, 'No': 0})\n",
    "  df['has_churned'] = df.churn.map({'Yes': 1, 'No': 0})   \n",
    "\n",
    "  #ENCODE the other categorical columns\n",
    "  enc_col = ['gender', 'multiple_lines', 'online_security', 'online_backup', 'device_protection', 'tech_support', 'streaming_tv', 'streaming_movies','payment_type','contract_type','internet_service_type']\n",
    "  d_df = pd.get_dummies(df[enc_col],drop_first=True)\n",
    "  #concate encoded df to rest of df\n",
    "  df = pd.concat([df,d_df],axis=1)\n",
    "\n",
    "  return df"
   ]
  },
  {
   "cell_type": "code",
   "execution_count": 42,
   "id": "bf076d63",
   "metadata": {},
   "outputs": [
    {
     "name": "stdout",
     "output_type": "stream",
     "text": [
      "<class 'pandas.core.frame.DataFrame'>\n",
      "Int64Index: 7043 entries, 0 to 7042\n",
      "Data columns (total 25 columns):\n",
      " #   Column                    Non-Null Count  Dtype  \n",
      "---  ------                    --------------  -----  \n",
      " 0   customer_id               7043 non-null   object \n",
      " 1   payment_type_id           7043 non-null   int64  \n",
      " 2   contract_type_id          7043 non-null   int64  \n",
      " 3   internet_service_type_id  7043 non-null   int64  \n",
      " 4   gender                    7043 non-null   object \n",
      " 5   senior_citizen            7043 non-null   int64  \n",
      " 6   partner                   7043 non-null   object \n",
      " 7   dependents                7043 non-null   object \n",
      " 8   tenure                    7043 non-null   int64  \n",
      " 9   phone_service             7043 non-null   object \n",
      " 10  multiple_lines            7043 non-null   object \n",
      " 11  online_security           7043 non-null   object \n",
      " 12  online_backup             7043 non-null   object \n",
      " 13  device_protection         7043 non-null   object \n",
      " 14  tech_support              7043 non-null   object \n",
      " 15  streaming_tv              7043 non-null   object \n",
      " 16  streaming_movies          7043 non-null   object \n",
      " 17  paperless_billing         7043 non-null   object \n",
      " 18  monthly_charges           7043 non-null   float64\n",
      " 19  total_charges             7043 non-null   object \n",
      " 20  churn                     7043 non-null   object \n",
      " 21  internet_service_type     7043 non-null   object \n",
      " 22  contract_type             7043 non-null   object \n",
      " 23  payment_type              7043 non-null   object \n",
      " 24  signup_date               7043 non-null   object \n",
      "dtypes: float64(1), int64(5), object(19)\n",
      "memory usage: 1.4+ MB\n"
     ]
    }
   ],
   "source": [
    "df = wrangle.getData('telco')\n",
    "df.info()"
   ]
  },
  {
   "cell_type": "code",
   "execution_count": 43,
   "id": "79cb6bb3",
   "metadata": {},
   "outputs": [
    {
     "name": "stdout",
     "output_type": "stream",
     "text": [
      "<class 'pandas.core.frame.DataFrame'>\n",
      "Int64Index: 7032 entries, 0 to 7042\n",
      "Data columns (total 47 columns):\n",
      " #   Column                                 Non-Null Count  Dtype  \n",
      "---  ------                                 --------------  -----  \n",
      " 0   gender                                 7032 non-null   object \n",
      " 1   senior_citizen                         7032 non-null   int64  \n",
      " 2   partner                                7032 non-null   object \n",
      " 3   dependents                             7032 non-null   object \n",
      " 4   tenure                                 7032 non-null   int64  \n",
      " 5   phone_service                          7032 non-null   object \n",
      " 6   multiple_lines                         7032 non-null   object \n",
      " 7   online_security                        7032 non-null   object \n",
      " 8   online_backup                          7032 non-null   object \n",
      " 9   device_protection                      7032 non-null   object \n",
      " 10  tech_support                           7032 non-null   object \n",
      " 11  streaming_tv                           7032 non-null   object \n",
      " 12  streaming_movies                       7032 non-null   object \n",
      " 13  paperless_billing                      7032 non-null   object \n",
      " 14  monthly_charges                        7032 non-null   float64\n",
      " 15  total_charges                          7032 non-null   float64\n",
      " 16  churn                                  7032 non-null   object \n",
      " 17  internet_service_type                  7032 non-null   object \n",
      " 18  contract_type                          7032 non-null   object \n",
      " 19  payment_type                           7032 non-null   object \n",
      " 20  has_phone                              7032 non-null   int64  \n",
      " 21  is_paperless                           7032 non-null   int64  \n",
      " 22  has_dependents                         7032 non-null   int64  \n",
      " 23  has_partner                            7032 non-null   int64  \n",
      " 24  has_churned                            7032 non-null   int64  \n",
      " 25  gender_Male                            7032 non-null   uint8  \n",
      " 26  multiple_lines_No phone service        7032 non-null   uint8  \n",
      " 27  multiple_lines_Yes                     7032 non-null   uint8  \n",
      " 28  online_security_No internet service    7032 non-null   uint8  \n",
      " 29  online_security_Yes                    7032 non-null   uint8  \n",
      " 30  online_backup_No internet service      7032 non-null   uint8  \n",
      " 31  online_backup_Yes                      7032 non-null   uint8  \n",
      " 32  device_protection_No internet service  7032 non-null   uint8  \n",
      " 33  device_protection_Yes                  7032 non-null   uint8  \n",
      " 34  tech_support_No internet service       7032 non-null   uint8  \n",
      " 35  tech_support_Yes                       7032 non-null   uint8  \n",
      " 36  streaming_tv_No internet service       7032 non-null   uint8  \n",
      " 37  streaming_tv_Yes                       7032 non-null   uint8  \n",
      " 38  streaming_movies_No internet service   7032 non-null   uint8  \n",
      " 39  streaming_movies_Yes                   7032 non-null   uint8  \n",
      " 40  payment_type_Credit card (automatic)   7032 non-null   uint8  \n",
      " 41  payment_type_Electronic check          7032 non-null   uint8  \n",
      " 42  payment_type_Mailed check              7032 non-null   uint8  \n",
      " 43  contract_type_One year                 7032 non-null   uint8  \n",
      " 44  contract_type_Two year                 7032 non-null   uint8  \n",
      " 45  internet_service_type_Fiber optic      7032 non-null   uint8  \n",
      " 46  internet_service_type_None             7032 non-null   uint8  \n",
      "dtypes: float64(2), int64(7), object(16), uint8(22)\n",
      "memory usage: 1.5+ MB\n"
     ]
    }
   ],
   "source": [
    "df = prep_telco(df)\n",
    "df.info()"
   ]
  },
  {
   "cell_type": "markdown",
   "id": "4c0ca234",
   "metadata": {},
   "source": [
    "##### has the correct number of rows and columns, total charges is float\n",
    "\n",
    "##### Now work on splitting"
   ]
  },
  {
   "cell_type": "code",
   "execution_count": 46,
   "id": "1a9ee71b",
   "metadata": {},
   "outputs": [],
   "source": [
    "#split test/train and validate - this order makes the ratios easier \n",
    "#define the target variable\n",
    "target = 'churn'\n",
    "#test and validation percentages of WHOLE dataset\n",
    "val_per = .2\n",
    "test_per = .1\n",
    "#Calculate percentage we need of test/train subset\n",
    "tt_per = test_per/(1-val_per)\n",
    "\n",
    "#returns train then test, so test_size is the second set it returns\n",
    "tt, validate = train_test_split(df, test_size=val_per,random_state=88,stratify=df[target])\n",
    "#now split tt in train and test want 70/10 so test_size = 1/8 or .125\n",
    "train, test = train_test_split(tt, test_size=tt_per, random_state=88,stratify=tt[target])"
   ]
  },
  {
   "cell_type": "code",
   "execution_count": 47,
   "id": "e4bb463a",
   "metadata": {},
   "outputs": [
    {
     "data": {
      "text/plain": [
       "(4921, 47)"
      ]
     },
     "execution_count": 47,
     "metadata": {},
     "output_type": "execute_result"
    }
   ],
   "source": [
    "train.shape"
   ]
  },
  {
   "cell_type": "code",
   "execution_count": 48,
   "id": "4144244d",
   "metadata": {},
   "outputs": [
    {
     "data": {
      "text/plain": [
       "(704, 47)"
      ]
     },
     "execution_count": 48,
     "metadata": {},
     "output_type": "execute_result"
    }
   ],
   "source": [
    "test.shape"
   ]
  },
  {
   "cell_type": "code",
   "execution_count": 49,
   "id": "7504e945",
   "metadata": {},
   "outputs": [
    {
     "data": {
      "text/plain": [
       "(1407, 47)"
      ]
     },
     "execution_count": 49,
     "metadata": {},
     "output_type": "execute_result"
    }
   ],
   "source": [
    "validate.shape"
   ]
  },
  {
   "cell_type": "markdown",
   "id": "83646612",
   "metadata": {},
   "source": [
    "##### Make into a splitting function and call from prep.  See in wrangle.py.\n",
    "\n",
    "##### Moving on to EDA workbook"
   ]
  }
 ],
 "metadata": {
  "kernelspec": {
   "display_name": "Python 3 (ipykernel)",
   "language": "python",
   "name": "python3"
  },
  "language_info": {
   "codemirror_mode": {
    "name": "ipython",
    "version": 3
   },
   "file_extension": ".py",
   "mimetype": "text/x-python",
   "name": "python",
   "nbconvert_exporter": "python",
   "pygments_lexer": "ipython3",
   "version": "3.9.7"
  }
 },
 "nbformat": 4,
 "nbformat_minor": 5
}

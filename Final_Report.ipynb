{
 "cells": [
  {
   "cell_type": "markdown",
   "id": "fab92a75",
   "metadata": {},
   "source": [
    "# Analyzing customer churn\n",
    "\n",
    "**Project Goal:** The goal of this project is to identify key drivers of customer churn in order to make recommendations on how to minimize future churn.  We aim to create a model to identify customers at a higher risk of churn and use this to take preventative action.\n",
    "\n",
    "Goals:\n",
    "- Identify key drivers of churn\n",
    "- Develop and test classification models for identifying customers at risk of churn"
   ]
  },
  {
   "cell_type": "code",
   "execution_count": 1,
   "id": "520a3ee3",
   "metadata": {},
   "outputs": [],
   "source": [
    "#the basics\n",
    "import numpy as np\n",
    "import pandas as pd\n",
    "\n",
    "#extra math\n",
    "from scipy import stats\n",
    "\n",
    "#visualizations\n",
    "import seaborn as sns\n",
    "import matplotlib.pyplot as plt\n",
    "\n",
    "#modeling tools\n",
    "from sklearn.ensemble import RandomForestClassifier\n",
    "from sklearn.neighbors import KNeighborsClassifier\n",
    "from sklearn.tree import DecisionTreeClassifier, plot_tree\n",
    "from sklearn.metrics import classification_report, accuracy_score, recall_score, precision_score, confusion_matrix, f1_score\n",
    "\n",
    "#My modules\n",
    "import wrangle\n",
    "import utils"
   ]
  },
  {
   "cell_type": "markdown",
   "id": "314c8b63",
   "metadata": {},
   "source": [
    "***\n",
    "## Data Acquisition\n",
    "***\n",
    "Data is a acquired from a locally stored file or the codeup server\n"
   ]
  },
  {
   "cell_type": "code",
   "execution_count": 2,
   "id": "7840b0d2",
   "metadata": {},
   "outputs": [],
   "source": [
    "#Retrieve data\n",
    "df = wrangle.getData('telco')"
   ]
  },
  {
   "cell_type": "code",
   "execution_count": 3,
   "id": "e448dda6",
   "metadata": {},
   "outputs": [
    {
     "name": "stdout",
     "output_type": "stream",
     "text": [
      "<class 'pandas.core.frame.DataFrame'>\n",
      "Int64Index: 7043 entries, 0 to 7042\n",
      "Data columns (total 25 columns):\n",
      " #   Column                    Non-Null Count  Dtype  \n",
      "---  ------                    --------------  -----  \n",
      " 0   customer_id               7043 non-null   object \n",
      " 1   payment_type_id           7043 non-null   int64  \n",
      " 2   contract_type_id          7043 non-null   int64  \n",
      " 3   internet_service_type_id  7043 non-null   int64  \n",
      " 4   gender                    7043 non-null   object \n",
      " 5   senior_citizen            7043 non-null   int64  \n",
      " 6   partner                   7043 non-null   object \n",
      " 7   dependents                7043 non-null   object \n",
      " 8   tenure                    7043 non-null   int64  \n",
      " 9   phone_service             7043 non-null   object \n",
      " 10  multiple_lines            7043 non-null   object \n",
      " 11  online_security           7043 non-null   object \n",
      " 12  online_backup             7043 non-null   object \n",
      " 13  device_protection         7043 non-null   object \n",
      " 14  tech_support              7043 non-null   object \n",
      " 15  streaming_tv              7043 non-null   object \n",
      " 16  streaming_movies          7043 non-null   object \n",
      " 17  paperless_billing         7043 non-null   object \n",
      " 18  monthly_charges           7043 non-null   float64\n",
      " 19  total_charges             7043 non-null   object \n",
      " 20  churn                     7043 non-null   object \n",
      " 21  internet_service_type     7043 non-null   object \n",
      " 22  contract_type             7043 non-null   object \n",
      " 23  payment_type              7043 non-null   object \n",
      " 24  signup_date               7043 non-null   object \n",
      "dtypes: float64(1), int64(5), object(19)\n",
      "memory usage: 1.4+ MB\n"
     ]
    }
   ],
   "source": [
    "#Show basic information\n",
    "df.info()"
   ]
  },
  {
   "cell_type": "markdown",
   "id": "b18f9800",
   "metadata": {},
   "source": [
    "***\n",
    "## Data Preparation\n",
    "***\n",
    "**Cleaning performed in the data preparation function**\n",
    "- The only missing values were in total_charges.  \n",
    "  - These were less than .2% of the entire dataset\n",
    "  - The rows with these values were removed as they were such a small portion of the dataset and corresponded to brand new customers\n",
    "- The total_charges column was converted to a float from a string\n",
    "- The following columns were dropped:\n",
    "  - payment_type_id: duplicate from sql merge\n",
    "  - contract_type_id: duplicate from sql merge\n",
    "  - internet_service_type_id: duplicate from sql merge\n",
    "  - customer_id: primary key not useful for analysis and modeling\n",
    "  - signup_date: provides similar information to the 'tenure' column\n",
    "- All categorical variables were encoded\n",
    "  \n",
    "*Full notes on data preparation can be found in wrangle_notebook.ipynb.  Functions are stored in wrangle.py*"
   ]
  },
  {
   "cell_type": "markdown",
   "id": "b1454c90",
   "metadata": {},
   "source": [
    "##### Prep the data and split into 3 subsets"
   ]
  },
  {
   "cell_type": "code",
   "execution_count": 4,
   "id": "2ad9c912",
   "metadata": {},
   "outputs": [],
   "source": [
    "#Prep and split the data into 70/15/15 (train/test/validate)\n",
    "tr, te, val = wrangle.prep_telco(df,val_ratio=.15,test_ratio=.15)"
   ]
  },
  {
   "cell_type": "markdown",
   "id": "f35a796a",
   "metadata": {},
   "source": [
    "***\n",
    "## Exploration\n",
    "***"
   ]
  },
  {
   "cell_type": "code",
   "execution_count": 5,
   "id": "2045ea96",
   "metadata": {},
   "outputs": [],
   "source": [
    "#generate a training subset without encoded columns\n",
    "tr_eda = tr.iloc[:,:20]"
   ]
  },
  {
   "cell_type": "markdown",
   "id": "f881b841",
   "metadata": {},
   "source": [
    "##### Show distribution of target variable"
   ]
  },
  {
   "cell_type": "code",
   "execution_count": 6,
   "id": "76f06666",
   "metadata": {},
   "outputs": [
    {
     "data": {
      "image/png": "[encoded data removed]",
      "text/plain": [
       "<Figure size 432x288 with 1 Axes>"
      ]
     },
     "metadata": {
      "needs_background": "light"
     },
     "output_type": "display_data"
    }
   ],
   "source": [
    "ax = sns.histplot(data=tr_eda,x='churn',hue='churn')\n",
    "for container in ax.containers:\n",
    "    ax.bar_label(container)"
   ]
  },
  {
   "cell_type": "markdown",
   "id": "01026e0d",
   "metadata": {},
   "source": [
    "### How does churn relate to customer tenure?"
   ]
  },
  {
   "cell_type": "code",
   "execution_count": 7,
   "id": "cc299f7a",
   "metadata": {},
   "outputs": [
    {
     "data": {
      "text/plain": [
       "Text(0.5, 1.0, 'Distribution of Customer Tenure by Churn')"
      ]
     },
     "execution_count": 7,
     "metadata": {},
     "output_type": "execute_result"
    },
    {
     "data": {
      "image/png": "[encoded data removed]",
      "text/plain": [
       "<Figure size 432x288 with 1 Axes>"
      ]
     },
     "metadata": {
      "needs_background": "light"
     },
     "output_type": "display_data"
    }
   ],
   "source": [
    "#Show histogram of tenure, broken out by churn\n",
    "ax = sns.histplot(data=tr_eda,x='tenure',hue='churn',multiple='dodge')\n",
    "ax.set_xlabel(\"Tenure (months)\")\n",
    "ax.set_ylabel(\"Number of customers\")\n",
    "ax.set_title(\"Distribution of Customer Tenure by Churn\")"
   ]
  },
  {
   "cell_type": "markdown",
   "id": "22b29a09",
   "metadata": {},
   "source": [
    "**Notes:**  We can see that the plot shows a much higher churn rate at lower tenures"
   ]
  },
  {
   "cell_type": "markdown",
   "id": "1cdbc588",
   "metadata": {},
   "source": [
    "### How does churn relate to monthly charges?"
   ]
  },
  {
   "cell_type": "code",
   "execution_count": 8,
   "id": "bd9616e1",
   "metadata": {},
   "outputs": [
    {
     "name": "stdout",
     "output_type": "stream",
     "text": [
      "Those who churned have an average monthly charge of 74.96 dollars.\n",
      "Those who did not churn have an average monthly charge of 61.87 dollars.\n"
     ]
    },
    {
     "data": {
      "image/png": "[encoded data removed]",
      "text/plain": [
       "<Figure size 360x360 with 1 Axes>"
      ]
     },
     "metadata": {
      "needs_background": "light"
     },
     "output_type": "display_data"
    }
   ],
   "source": [
    "sns.catplot(data=tr_eda,x='churn',y='monthly_charges',kind='violin')\n",
    "plt.title(\"Monthly Charges by Customer Churn\")\n",
    "plt.ylabel(\"Monthly Charges (USD)\")\n",
    "\n",
    "#Calculate and print average monthly charge for each churned and unchurned customers\n",
    "ch_mean = tr_eda[tr_eda.churn=='Yes'].monthly_charges.mean()\n",
    "st_mean = tr_eda[tr_eda.churn=='No'].monthly_charges.mean()\n",
    "print(f'Those who churned have an average monthly charge of {ch_mean:.2f} dollars.')\n",
    "print(f'Those who did not churn have an average monthly charge of {st_mean:.2f} dollars.')"
   ]
  },
  {
   "cell_type": "markdown",
   "id": "65200fb1",
   "metadata": {},
   "source": [
    "**Notes:** This shows that those who churned on average have a higher monthly bill than those that didn't. Specifically, they paid an additional 13 dollars on average per month. It's also worth noting there is a large number of people who churned with monthly_charges between 80-100 dollars. There is also a large number of people who did not churn that had monthly charges of 20 dollars"
   ]
  },
  {
   "cell_type": "markdown",
   "id": "67ba0af2",
   "metadata": {},
   "source": [
    "### How does churn relate to internet service type?"
   ]
  },
  {
   "cell_type": "code",
   "execution_count": 9,
   "id": "dc4c21e1",
   "metadata": {},
   "outputs": [
    {
     "data": {
      "text/plain": [
       "Text(0.5, 0, 'Internet Service Type')"
      ]
     },
     "execution_count": 9,
     "metadata": {},
     "output_type": "execute_result"
    },
    {
     "data": {
      "image/png": "[encoded data removed]",
      "text/plain": [
       "<Figure size 432x288 with 1 Axes>"
      ]
     },
     "metadata": {
      "needs_background": "light"
     },
     "output_type": "display_data"
    }
   ],
   "source": [
    "ax = sns.histplot(data=tr_eda,x='internet_service_type',hue='churn',multiple='dodge')\n",
    "for container in ax.containers:\n",
    "    ax.bar_label(container)\n",
    "ax.set_title('Churn by Internet Service Type')\n",
    "ax.set_xlabel('Internet Service Type')"
   ]
  },
  {
   "cell_type": "markdown",
   "id": "3b187ded",
   "metadata": {},
   "source": [
    "##### Perform a chi-squared test for interdependence\n",
    "\n",
    "Null Hypothesis: Internet Service Type and Churn are independent of each other.\n",
    "Alternate Hypothesis: Internet Service Type and Churn are *not* independent of each other.\n",
    "\n",
    "Use an alpha of .05"
   ]
  },
  {
   "cell_type": "code",
   "execution_count": 10,
   "id": "2337e116",
   "metadata": {},
   "outputs": [
    {
     "name": "stdout",
     "output_type": "stream",
     "text": [
      "\n",
      "\u001b[1mH₀:\u001b[0m Internet Service Type and Churn are independent of each other.\n",
      "\u001b[1mWe reject the null hypothesis\u001b[0m, p = 7.906836484588637e-108 | α = 0.05\n",
      "  chi2: 493.2229245606228\n"
     ]
    }
   ],
   "source": [
    "#set null hypothesis and alpha\n",
    "null_h= f'Internet Service Type and Churn are independent of each other.'\n",
    "α = .05\n",
    "\n",
    "#create table of observed values\n",
    "obs = pd.crosstab(tr_eda.internet_service_type,tr_eda.churn)\n",
    "\n",
    "#run chi^2 test\n",
    "chi2, p = stats.chi2_contingency(obs)[0:2]\n",
    "\n",
    "#pretty print the results\n",
    "utils.stats_result(p,null_h,alpha=α,chi2=chi2)"
   ]
  },
  {
   "cell_type": "markdown",
   "id": "0580bd00",
   "metadata": {},
   "source": [
    "**Notes:**  The chart shows a much higher churn rate in fiber optic customers and a moderate churn rate in DSL customers.  With further statistical analysis, I was able to reject the null hypothesis that internet service type and churn are independent of each other."
   ]
  },
  {
   "cell_type": "markdown",
   "id": "6166eabb",
   "metadata": {},
   "source": [
    "### How does churn relate to contract type?"
   ]
  },
  {
   "cell_type": "code",
   "execution_count": 11,
   "id": "06e9690a",
   "metadata": {},
   "outputs": [
    {
     "data": {
      "text/plain": [
       "Text(0.5, 0, 'Contract Type')"
      ]
     },
     "execution_count": 11,
     "metadata": {},
     "output_type": "execute_result"
    },
    {
     "data": {
      "image/png": "[encoded data removed]",
      "text/plain": [
       "<Figure size 432x288 with 1 Axes>"
      ]
     },
     "metadata": {
      "needs_background": "light"
     },
     "output_type": "display_data"
    }
   ],
   "source": [
    "ax = sns.histplot(data=tr_eda,x='contract_type',hue='churn',multiple='dodge')\n",
    "for container in ax.containers:\n",
    "    ax.bar_label(container)\n",
    "ax.set_title('Churn by Contract Type')\n",
    "ax.set_xlabel('Contract Type')"
   ]
  },
  {
   "cell_type": "markdown",
   "id": "32f2d6e9",
   "metadata": {},
   "source": [
    "##### Perform a chi-squared test for interdependence\n",
    "\n",
    "Null Hypothesis: Contract Type and Churn are independent of each other.\n",
    "Alternate Hypothesis: Contract Type and Churn are *not* independent of each other.\n",
    "\n",
    "Use an alpha of .05"
   ]
  },
  {
   "cell_type": "code",
   "execution_count": 12,
   "id": "4bbfb9eb",
   "metadata": {},
   "outputs": [
    {
     "name": "stdout",
     "output_type": "stream",
     "text": [
      "\n",
      "\u001b[1mH₀:\u001b[0m Contract Type and Churn are independent of each other.\n",
      "\u001b[1mWe reject the null hypothesis\u001b[0m, p = 8.258645539377003e-174 | α = 0.05\n",
      "  chi2: 797.0770911703213\n"
     ]
    }
   ],
   "source": [
    "#set null hypothesis and alpha\n",
    "null_h= f'Contract Type and Churn are independent of each other.'\n",
    "α = .05\n",
    "\n",
    "#create table of observed values\n",
    "obs = pd.crosstab(tr_eda.contract_type,tr_eda.churn)\n",
    "\n",
    "#run chi^2 test\n",
    "chi2, p = stats.chi2_contingency(obs)[0:2]\n",
    "\n",
    "#pretty print the results\n",
    "utils.stats_result(p,null_h,alpha=α,chi2=chi2)"
   ]
  },
  {
   "cell_type": "markdown",
   "id": "cc9816a4",
   "metadata": {},
   "source": [
    "**Notes:**  The chart indicates a higher churn rate in month-to-month contracts. With further statistical analysis, I was able to reject the null hypothesis that contract type and churn are independent of each other.  "
   ]
  },
  {
   "cell_type": "markdown",
   "id": "24d3b02a",
   "metadata": {},
   "source": [
    "##### Show how contract type and internet service type relate to churn"
   ]
  },
  {
   "cell_type": "code",
   "execution_count": 13,
   "id": "2246cc09",
   "metadata": {},
   "outputs": [
    {
     "data": {
      "text/plain": [
       "<seaborn.axisgrid.FacetGrid at 0x7f8979451100>"
      ]
     },
     "execution_count": 13,
     "metadata": {},
     "output_type": "execute_result"
    },
    {
     "data": {
      "image/png": "[encoded data removed]",
      "text/plain": [
       "<Figure size 1132x360 with 3 Axes>"
      ]
     },
     "metadata": {
      "needs_background": "light"
     },
     "output_type": "display_data"
    }
   ],
   "source": [
    "#internet type and contract type\n",
    "sns.displot(data=tr_eda,x='internet_service_type',hue='churn',col='contract_type',multiple='dodge')"
   ]
  },
  {
   "cell_type": "markdown",
   "id": "a42ef598",
   "metadata": {},
   "source": [
    "**Notes:** Previous charts showed higher churn rates in month-to-month contracts and fiber-optic and DSL customers.  Breaking this out into combined graphs we can see that the higher churn rate in DSL customers is more likely caused by the subset of DSL customers that are on month-to-month contracts as the same trend isn't visible in the other contract types."
   ]
  },
  {
   "cell_type": "markdown",
   "id": "19be6609",
   "metadata": {},
   "source": [
    "***\n",
    "## Modeling\n",
    "***"
   ]
  },
  {
   "cell_type": "markdown",
   "id": "f649a752",
   "metadata": {},
   "source": [
    "##### Prepare model inputs"
   ]
  },
  {
   "cell_type": "code",
   "execution_count": 14,
   "id": "4f320729",
   "metadata": {},
   "outputs": [],
   "source": [
    "#Split subsets into encoded data and target\n",
    "\n",
    "#Drop all object columns and has_churned\n",
    "X_tr = tr.select_dtypes(exclude=object).drop(columns='has_churned')\n",
    "y_tr = tr.churn\n",
    "\n",
    "X_te = te.select_dtypes(exclude=object).drop(columns='has_churned')\n",
    "y_te = te.churn\n",
    "\n",
    "X_val = val.select_dtypes(exclude=object).drop(columns='has_churned')\n",
    "y_val = val.churn"
   ]
  },
  {
   "cell_type": "markdown",
   "id": "01f34883",
   "metadata": {},
   "source": [
    "##### Classification models\n",
    "- 13 models were created and ran across the train subset\n",
    "  - Decision Trees with a depth of 2 through 7\n",
    "  - Random Forests with a depth of 5, 10 and 15\n",
    "    - The smaller depths had increased number of estimators\n",
    "  - K-Nearest Neighbors with depths ranging from 3 to 10\n",
    "    - A distance weight was used on depths of 3 and 5\n",
    "    - A uniform weight was used on depths of 5 and 1\n",
    "\n",
    "##### Training model evaluation\n",
    "- I was most interested in accurately identifying people who will churn, therefore minimizing any false negatives.  While we want to avoid any False Positives, we can tolerate a higher number of these\n",
    "   - **In the models we wanted to maximize recall, with a secondary priority of accuracy and F1 score**\n",
    "   \n",
    "*Knowing whether this information is used for marketing or promotional targets will sway whether we want a higher F1 score and accuracy*"
   ]
  },
  {
   "cell_type": "markdown",
   "id": "0de187e7",
   "metadata": {},
   "source": [
    "#### Best performing models:\n",
    "- Decision Tree with max depth of 4\n",
    "- Random Forest with max depth of 10 and 150 estimators\n",
    "- KNN with 5 neighbors and uniform weight"
   ]
  },
  {
   "cell_type": "markdown",
   "id": "15f60568",
   "metadata": {},
   "source": [
    "##### Generate and fit the models.  Create predictions"
   ]
  },
  {
   "cell_type": "code",
   "execution_count": 15,
   "id": "fecbab9d",
   "metadata": {},
   "outputs": [],
   "source": [
    "#Create results dataframe and populate with actual values\n",
    "tr_res = pd.DataFrame(tr.churn)\n",
    "#rename column to actual\n",
    "tr_res.rename(columns={'churn':'actual'},inplace=True)\n",
    "\n",
    "#Create model dictionary\n",
    "model_dict = {}\n",
    "\n",
    "### BASELINE ###\n",
    "tr_res['baseline'] = tr.churn.mode()[0]\n",
    "\n",
    "### DECISION TREE ###\n",
    "#generate model name\n",
    "model_name = 'dt_md4'\n",
    "\n",
    "#define decision tree params\n",
    "clf = DecisionTreeClassifier(max_depth=4,random_state=88)\n",
    "#fit training data\n",
    "clf = clf.fit(X_tr,y_tr)\n",
    "\n",
    "#Generate train predictions and store to result dataframe\n",
    "tr_res[model_name] = clf.predict(X_tr)\n",
    "#Now store in our dictionary\n",
    "model_dict[model_name] = {\n",
    "    \"model_name\": model_name,\n",
    "    \"model\":clf\n",
    "}\n",
    "### RANDOM FOREST ###\n",
    "#generate model name\n",
    "model_name = 'rf_md10_ne150'\n",
    "\n",
    "#define decision tree params\n",
    "clf = RandomForestClassifier(max_depth=10,n_estimators=150,random_state=88)\n",
    "#fit training data\n",
    "clf = clf.fit(X_tr,y_tr)\n",
    "    \n",
    "#Generate train predictions and store to result dataframe\n",
    "tr_res[model_name] = clf.predict(X_tr)\n",
    "#Now store in our dictionary\n",
    "model_dict[model_name] = {\n",
    "    \"model_name\": model_name,\n",
    "    \"model\":clf\n",
    "}\n",
    "    \n",
    "### K-NEAREST NEIGHBOR ###\n",
    "#generate model name\n",
    "model_name = 'knn_n5_wU'\n",
    "\n",
    "#define decision tree params\n",
    "clf = KNeighborsClassifier(n_neighbors=5,weights='uniform')\n",
    "#fit training data\n",
    "clf = clf.fit(X_tr,y_tr)\n",
    "    \n",
    "#Generate train predictions and store to result dataframe\n",
    "tr_res[model_name] = clf.predict(X_tr)\n",
    "#Now store in our dictionary\n",
    "model_dict[model_name] = {\n",
    "    \"model_name\": model_name,\n",
    "    \"model\":clf\n",
    "}"
   ]
  },
  {
   "cell_type": "markdown",
   "id": "155f6e73",
   "metadata": {},
   "source": [
    "##### Get and print model performance metrics"
   ]
  },
  {
   "cell_type": "code",
   "execution_count": 16,
   "id": "454961e0",
   "metadata": {},
   "outputs": [
    {
     "data": {
      "text/html": [
       "<div>\n",
       "<style scoped>\n",
       "    .dataframe tbody tr th:only-of-type {\n",
       "        vertical-align: middle;\n",
       "    }\n",
       "\n",
       "    .dataframe tbody tr th {\n",
       "        vertical-align: top;\n",
       "    }\n",
       "\n",
       "    .dataframe thead th {\n",
       "        text-align: right;\n",
       "    }\n",
       "</style>\n",
       "<table border=\"1\" class=\"dataframe\">\n",
       "  <thead>\n",
       "    <tr style=\"text-align: right;\">\n",
       "      <th></th>\n",
       "      <th>Accuracy</th>\n",
       "      <th>precision</th>\n",
       "      <th>recall</th>\n",
       "      <th>F1</th>\n",
       "      <th>FNR</th>\n",
       "      <th>FPR</th>\n",
       "      <th>support_pos</th>\n",
       "      <th>support_neg</th>\n",
       "      <th>TP</th>\n",
       "      <th>FP</th>\n",
       "      <th>FN</th>\n",
       "      <th>TN</th>\n",
       "    </tr>\n",
       "  </thead>\n",
       "  <tbody>\n",
       "    <tr>\n",
       "      <th>baseline</th>\n",
       "      <td>0.734051</td>\n",
       "      <td>0.000000</td>\n",
       "      <td>0.000000</td>\n",
       "      <td>0.000000</td>\n",
       "      <td>1.000000</td>\n",
       "      <td>0.000000</td>\n",
       "      <td>1309</td>\n",
       "      <td>3613</td>\n",
       "      <td>0</td>\n",
       "      <td>0</td>\n",
       "      <td>1309</td>\n",
       "      <td>3613</td>\n",
       "    </tr>\n",
       "    <tr>\n",
       "      <th>dt_md4</th>\n",
       "      <td>0.791751</td>\n",
       "      <td>0.637864</td>\n",
       "      <td>0.501910</td>\n",
       "      <td>0.561779</td>\n",
       "      <td>0.498090</td>\n",
       "      <td>0.103238</td>\n",
       "      <td>1309</td>\n",
       "      <td>3613</td>\n",
       "      <td>657</td>\n",
       "      <td>373</td>\n",
       "      <td>652</td>\n",
       "      <td>3240</td>\n",
       "    </tr>\n",
       "    <tr>\n",
       "      <th>rf_md10_ne150</th>\n",
       "      <td>0.869159</td>\n",
       "      <td>0.818792</td>\n",
       "      <td>0.652406</td>\n",
       "      <td>0.726190</td>\n",
       "      <td>0.347594</td>\n",
       "      <td>0.052311</td>\n",
       "      <td>1309</td>\n",
       "      <td>3613</td>\n",
       "      <td>854</td>\n",
       "      <td>189</td>\n",
       "      <td>455</td>\n",
       "      <td>3424</td>\n",
       "    </tr>\n",
       "    <tr>\n",
       "      <th>knn_n5_wU</th>\n",
       "      <td>0.833401</td>\n",
       "      <td>0.745236</td>\n",
       "      <td>0.567609</td>\n",
       "      <td>0.644406</td>\n",
       "      <td>0.432391</td>\n",
       "      <td>0.070302</td>\n",
       "      <td>1309</td>\n",
       "      <td>3613</td>\n",
       "      <td>743</td>\n",
       "      <td>254</td>\n",
       "      <td>566</td>\n",
       "      <td>3359</td>\n",
       "    </tr>\n",
       "  </tbody>\n",
       "</table>\n",
       "</div>"
      ],
      "text/plain": [
       "               Accuracy  precision    recall        F1       FNR       FPR  \\\n",
       "baseline       0.734051   0.000000  0.000000  0.000000  1.000000  0.000000   \n",
       "dt_md4         0.791751   0.637864  0.501910  0.561779  0.498090  0.103238   \n",
       "rf_md10_ne150  0.869159   0.818792  0.652406  0.726190  0.347594  0.052311   \n",
       "knn_n5_wU      0.833401   0.745236  0.567609  0.644406  0.432391  0.070302   \n",
       "\n",
       "               support_pos  support_neg   TP   FP    FN    TN  \n",
       "baseline              1309         3613    0    0  1309  3613  \n",
       "dt_md4                1309         3613  657  373   652  3240  \n",
       "rf_md10_ne150         1309         3613  854  189   455  3424  \n",
       "knn_n5_wU             1309         3613  743  254   566  3359  "
      ]
     },
     "execution_count": 16,
     "metadata": {},
     "output_type": "execute_result"
    }
   ],
   "source": [
    "#Postive value is churn = Yes\n",
    "pos = 'Yes'\n",
    "\n",
    "#create model performance df\n",
    "mod_perf = pd.DataFrame()\n",
    "\n",
    "#loop over columns (models)\n",
    "for model_name in tr_res.columns[1:]:\n",
    "    #skip actual\n",
    "    if model_name=='actual': continue\n",
    "    #get model stats in df and print\n",
    "    df = utils.get_model_stats(tr_res.actual,tr_res[model_name],pos,to_screen=False,ret_df=True)\n",
    "    #concat together\n",
    "    mod_perf = pd.concat([mod_perf,df], axis=0)\n",
    "\n",
    "mod_perf"
   ]
  },
  {
   "cell_type": "markdown",
   "id": "3c3d96df",
   "metadata": {},
   "source": [
    "**Notes on train predictions**:  Random Forest performed the best with a recall of .65 and an accuracy of .87.  K-Nearest neighbors came in second with a recall of .57 and a accuracy of .83.  The decision tree performed worst of these top models with a recall of .50."
   ]
  },
  {
   "cell_type": "markdown",
   "id": "9ba31340",
   "metadata": {},
   "source": [
    "##### Run models against the Validate subset"
   ]
  },
  {
   "cell_type": "code",
   "execution_count": 19,
   "id": "140f1d3f",
   "metadata": {},
   "outputs": [
    {
     "name": "stdout",
     "output_type": "stream",
     "text": [
      "             Accuracy  precision    recall        F1\n",
      "dt_md4       0.791751   0.637864  0.501910  0.561779\n",
      "dt_md4_val   0.796209   0.640693  0.528571  0.579256\n",
      "dt_md4_diff  0.004457   0.002829  0.026662  0.017478\n",
      "\n",
      "\n",
      "                    Accuracy  precision    recall        F1\n",
      "rf_md10_ne150       0.869159   0.818792  0.652406  0.726190\n",
      "rf_md10_ne150_val   0.799052   0.661905  0.496429  0.567347\n",
      "rf_md10_ne150_diff -0.070107  -0.156887 -0.155978 -0.158844\n",
      "\n",
      "\n",
      "                Accuracy  precision    recall        F1\n",
      "knn_n5_wU       0.833401   0.745236  0.567609  0.644406\n",
      "knn_n5_wU_val   0.750711   0.538813  0.421429  0.472946\n",
      "knn_n5_wU_diff -0.082690  -0.206423 -0.146180 -0.171460\n",
      "\n",
      "\n"
     ]
    }
   ],
   "source": [
    "#create val results dataframe:  in this case, columns are models\n",
    "val_res = pd.DataFrame(y_val)\n",
    "val_res.rename(columns={'churn':'actual'},inplace=True)\n",
    "\n",
    "#create new model performance dataframe\n",
    "mod_perf_comp = pd.DataFrame()\n",
    "\n",
    "#Loop over models:\n",
    "for model_name in tr_res.columns[2:]:    \n",
    "    #new indices to use\n",
    "    ind_val = model_name + \"_val\"\n",
    "    ind_diff = model_name + \"_diff\"\n",
    "\n",
    "    #grab model from dictionary:\n",
    "    clf = model_dict[model_name]['model']\n",
    "    \n",
    "    #generate prediction on val dataset - adds new column\n",
    "    val_res[model_name] = clf.predict(X_val)\n",
    "    \n",
    "    #calculate val model stats - df where rows are models, stats are columns\n",
    "    v_perf = utils.get_model_stats(val_res.actual,val_res[model_name],pos,to_screen=False,ret_df=True)\n",
    "    #rename index to represent validate results\n",
    "    v_perf.rename(index={model_name:ind_val},inplace=True)\n",
    "    #add another column with difference between val and train\n",
    "    v_perf.loc[ind_diff] = v_perf.loc[ind_val,'Accuracy':'FPR'] - mod_perf.loc[model_name,'Accuracy':'FPR']\n",
    "\n",
    "    #store train, validate model stats and difference in new dataframe\n",
    "    mod_perf_comp = pd.concat([mod_perf_comp,mod_perf[mod_perf.index == model_name],v_perf],axis=0)\n",
    "\n",
    "#Print out the performance\n",
    "for i in range(0,3):\n",
    "    rs = i*3\n",
    "    print(mod_perf_comp.iloc[rs:rs+3,0:4])\n",
    "    print('\\n')"
   ]
  },
  {
   "cell_type": "markdown",
   "id": "224a2751",
   "metadata": {},
   "source": [
    "#### Model Evaluation\n",
    "- The decision tree performed well against the validation subset, seeing a slight increase in recall and accuracy.\n",
    "- The random forest model saw a major decrease in performance both on accuracy and recall.\n",
    "- The knn did poorly on the validation set, with a significant decrease in recall. \n",
    "\n",
    "**The decision tree had the most consistent results across the train and validate subset and it had a better recall than the other models against the validate subset**"
   ]
  },
  {
   "cell_type": "markdown",
   "id": "601e3216",
   "metadata": {},
   "source": [
    "##### Run the decision tree against the test dataset"
   ]
  },
  {
   "cell_type": "markdown",
   "id": "5d77325d",
   "metadata": {},
   "source": [
    "# TO DO:\n",
    "## 1) Run against test\n",
    "## 2) Create and store in predictions.csv\n",
    "## 3) Update Conclusions\n",
    "## 4) Produce chart of the best model and how it performed on test\n",
    "#### probably want to plot tree here and do another chart"
   ]
  },
  {
   "cell_type": "code",
   "execution_count": null,
   "id": "772bf614",
   "metadata": {},
   "outputs": [],
   "source": []
  },
  {
   "cell_type": "code",
   "execution_count": null,
   "id": "69705e2f",
   "metadata": {},
   "outputs": [],
   "source": []
  },
  {
   "cell_type": "code",
   "execution_count": null,
   "id": "f6efab71",
   "metadata": {},
   "outputs": [],
   "source": []
  },
  {
   "cell_type": "markdown",
   "id": "0620a9f0",
   "metadata": {},
   "source": [
    "***\n",
    "## Conclusion\n",
    "***\n",
    "- restate original goals\n",
    "  - How did I reach those? (or didn't)\n",
    "- Key Findings\n",
    "- Recommendations\n",
    "  - Ensure actionable\n",
    "- Next Steps\n",
    "  - Perform additional modeling w/ logistic regression and adjusted hyper-parameters on random forest\n",
    "  - Acquire geospatial data and availability of alternatives\n",
    "    - Would greatly assist with identifying other factors of churn (or why ppl didn't churn)\n",
    "\n"
   ]
  },
  {
   "cell_type": "markdown",
   "id": "a3bb9c9e",
   "metadata": {},
   "source": [
    "### Appendix:\n",
    "You can uncomment the below code to view functions from other modules."
   ]
  },
  {
   "cell_type": "code",
   "execution_count": null,
   "id": "64f0e8d4",
   "metadata": {},
   "outputs": [],
   "source": [
    "# import inspect\n",
    "# print(inspect.getsource(utils.stats_result))\n",
    "# print(inspect.getsource(utils.get_model_stats))\n",
    "# print(inspect.getsource(wrangle.prep_telco))"
   ]
  }
 ],
 "metadata": {
  "kernelspec": {
   "display_name": "Python 3 (ipykernel)",
   "language": "python",
   "name": "python3"
  },
  "language_info": {
   "codemirror_mode": {
    "name": "ipython",
    "version": 3
   },
   "file_extension": ".py",
   "mimetype": "text/x-python",
   "name": "python",
   "nbconvert_exporter": "python",
   "pygments_lexer": "ipython3",
   "version": "3.9.7"
  }
 },
 "nbformat": 4,
 "nbformat_minor": 5
}

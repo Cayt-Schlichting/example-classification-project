{
 "cells": [
  {
   "cell_type": "code",
   "execution_count": null,
   "id": "4a72b217",
   "metadata": {},
   "outputs": [],
   "source": [
    "#the basics\n",
    "import numpy as np\n",
    "import pandas as pd\n",
    "\n",
    "#modeling tools\n",
    "from sklearn.ensemble import RandomForestClassifier\n",
    "from sklearn.neighbors import KNeighborsClassifier\n",
    "from sklearn.tree import DecisionTreeClassifier, plot_tree\n",
    "from sklearn.metrics import classification_report, accuracy_score, recall_score, precision_score, confusion_matrix, f1_score\n",
    "\n",
    "#My modules\n",
    "import wrangle\n",
    "import utils"
   ]
  },
  {
   "cell_type": "markdown",
   "id": "5d24bcc2",
   "metadata": {},
   "source": [
    "### Acquire Data"
   ]
  },
  {
   "cell_type": "code",
   "execution_count": null,
   "id": "2626f3fc",
   "metadata": {},
   "outputs": [],
   "source": []
  },
  {
   "cell_type": "code",
   "execution_count": null,
   "id": "7a671f0f",
   "metadata": {},
   "outputs": [],
   "source": []
  }
 ],
 "metadata": {
  "kernelspec": {
   "display_name": "Python 3 (ipykernel)",
   "language": "python",
   "name": "python3"
  },
  "language_info": {
   "codemirror_mode": {
    "name": "ipython",
    "version": 3
   },
   "file_extension": ".py",
   "mimetype": "text/x-python",
   "name": "python",
   "nbconvert_exporter": "python",
   "pygments_lexer": "ipython3",
   "version": "3.9.7"
  }
 },
 "nbformat": 4,
 "nbformat_minor": 5
}
